{
 "cells": [
  {
   "cell_type": "markdown",
   "id": "eec5dfa4-e0f0-4b5a-bcfc-6eb30c9d4811",
   "metadata": {},
   "source": [
    "1) name one purpose for github\n",
    "   - allows collaboration in group projects by storing and sharing codes\n",
    "3) describe what is version control in your own words and how it could help you in your project\n",
    "   - Version control allows you to access all the versions of your project from start to the end. It will be helpful in the project as it will allow us to access the history of any edits that have been made to the original file \n",
    "5) explain how in a group project (which we are not doing) github could help manage collaboration.\n",
    "   - It provides a common repository for all the codes that are used in the project.\n",
    "   - Allows all the team members to review each others work\n",
    "   - It acts just like shared google document but in terms of accessing code. "
   ]
  }
 ],
 "metadata": {
  "kernelspec": {
   "display_name": "Python 3 (ipykernel)",
   "language": "python",
   "name": "python3"
  },
  "language_info": {
   "codemirror_mode": {
    "name": "ipython",
    "version": 3
   },
   "file_extension": ".py",
   "mimetype": "text/x-python",
   "name": "python",
   "nbconvert_exporter": "python",
   "pygments_lexer": "ipython3",
   "version": "3.12.5"
  }
 },
 "nbformat": 4,
 "nbformat_minor": 5
}
